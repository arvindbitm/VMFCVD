{
 "cells": [
  {
   "cell_type": "code",
   "execution_count": null,
   "id": "983d3e0f",
   "metadata": {
    "scrolled": true
   },
   "outputs": [],
   "source": [
    "from sklearn.linear_model import LinearRegression\n",
    "import pandas as pd\n",
    "df=pd.read_csv(\"dataset/P6_Live.csv\")"
   ]
  },
  {
   "cell_type": "code",
   "execution_count": null,
   "id": "df6f41ec",
   "metadata": {
    "scrolled": true
   },
   "outputs": [],
   "source": [
    "print(\"Handling mising Values...\\n\")\n",
    "pd.options.mode.chained_assignment = None       \n",
    "valDF = pd.DataFrame(df[valColumns]).copy()\n",
    "\n",
    "valDF.drop(LABEL, 1, inplace=True, errors='ignore')\n",
    "myDF = pd.DataFrame(valDF).copy()\n",
    "\n",
    "for i in range(len(naColumns)):\n",
    "    valDF[naColumns[i]] = df[naColumns[i]]\n",
    "    myTrain = valDF[valDF[naColumns[i]].notna()]\n",
    "    myTest = valDF[valDF[naColumns[i]].isna()]\n",
    "\n",
    "    X_Train = myTrain.iloc[:,:-1]\n",
    "    Y_Train =  pd.DataFrame(myTrain[naColumns[i]]).copy()\n",
    "\n",
    "    X_Test = myTest.iloc[:,:-1]\n",
    "    Y_Test = pd.DataFrame(myTest[naColumns[i]]).copy()\n",
    "\n",
    "    LR = LinearRegression(normalize=True)\n",
    "    LR.fit(X_Train, Y_Train)\n",
    "    yPred = LR.predict(X_Test)\n",
    "    \n",
    "    Y_Test[naColumns[i]] = yPred\n",
    "    \n",
    "    for j in range(len(yPred)):\n",
    "        df[naColumns[i]][X_Test.index[j]] = yPred[j]        \n",
    "    \n",
    "    valDF.drop(naColumns[i], 1, inplace=True)\n",
    "    \n",
    "\n",
    "print(\"Row-Column Count after Data Cleaning: (\", len(df.axes[0]) , \" , \",  len(df.axes[1]) , \")\")\n",
    "print(\"Total NA Values : \", df.isna().sum().sum())"
   ]
  },
  {
   "cell_type": "code",
   "execution_count": null,
   "id": "45ab72f2",
   "metadata": {},
   "outputs": [],
   "source": []
  }
 ],
 "metadata": {
  "kernelspec": {
   "display_name": "Python 3 (ipykernel)",
   "language": "python",
   "name": "python3"
  },
  "language_info": {
   "codemirror_mode": {
    "name": "ipython",
    "version": 3
   },
   "file_extension": ".py",
   "mimetype": "text/x-python",
   "name": "python",
   "nbconvert_exporter": "python",
   "pygments_lexer": "ipython3",
   "version": "3.9.13"
  }
 },
 "nbformat": 4,
 "nbformat_minor": 5
}
