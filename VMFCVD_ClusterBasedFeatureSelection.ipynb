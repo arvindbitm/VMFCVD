{
 "cells": [
  {
   "cell_type": "code",
   "execution_count": null,
   "metadata": {
    "scrolled": true
   },
   "outputs": [],
   "source": [
    "def ClusterFormation(Features, FeaturesInEachCluester, NoOfFeatures):\n",
    "    MyClusters =[]\n",
    "    if(NoOfFeatures<3):\n",
    "        NoOfFeatures = 3\n",
    "    for i in range (NoOfFeatures):\n",
    "        for j in range (i+1,NoOfFeatures):\n",
    "            NewRow = []\n",
    "            NewRow.append(Features[i])\n",
    "            for k in range(FeaturesInEachCluester-1):\n",
    "                NewRow.append(Features[j+k])\n",
    "            MyClusters.append(NewRow)   \n",
    "    return MyClusters"
   ]
  },
  {
   "cell_type": "code",
   "execution_count": null,
   "metadata": {
    "scrolled": true
   },
   "outputs": [],
   "source": [
    "print(\"Finding best performing Clusters\")\n",
    "\n",
    "clusterWiseBestAccuracy = pd.DataFrame(columns=['NoOfFeatures','Features','Accuracy','TimeInSec'])\n",
    "for i in range(2,len(selectedColumns)):\n",
    "    Clusters = ClusterFormation(selectedColumns,i,7-i)\n",
    "    print(\"\\n**************************************************************************************\")\n",
    "    print(\"No of Features: \" , i)   \n",
    "    AccuracyData = pd.DataFrame(columns=['Features','AdaBoost','Bagging','Sum','TimeInSec'])\n",
    "\n",
    "    for CL in Clusters:\n",
    "        STARTED = time.time()\n",
    "        X_Train = None\n",
    "        Y_Train = None\n",
    "        X_Test = None\n",
    "        Y_Test = None\n",
    "        X_Train = pd.DataFrame(X_TrainMaster[CL]).copy()\n",
    "        X_Test = pd.DataFrame(X_TestMaster[CL]).copy()\n",
    "        Y_Train = pd.DataFrame(Y_TrainMaster).copy()\n",
    "        Y_Test = pd.DataFrame(Y_TestMaster).copy()\n",
    "        AdaBoost_Classifier = AdaBoostClassifier()\n",
    "        AdaBoost_Classifier = AdaBoost_Classifier.fit(X_Train, Y_Train)\n",
    "        AdaBoostAccuracy = metrics.accuracy_score(Y_Test, AdaBoost_Classifier.predict(X_Test))\n",
    "\n",
    "        Bagging_Classifier = BaggingClassifier()\n",
    "        Bagging_Classifier = Bagging_Classifier.fit(X_Train, Y_Train)\n",
    "        BaggingAccuracy = metrics.accuracy_score(Y_Test, Bagging_Classifier.predict(X_Test))\n",
    "\n",
    "        tot=(AdaBoostAccuracy+BaggingAccuracy)/2\n",
    "        ENDED = time.time()\n",
    "        timeTaken = int(ENDED - STARTED)\n",
    "        newRow = {'Features':CL, 'AdaBoost':AdaBoostAccuracy, 'Bagging':BaggingAccuracy,'Sum':tot,'TimeInSec':timeTaken}\n",
    "        AccuracyData = AccuracyData.append(newRow , ignore_index=True)\n",
    "        print(newRow)\n",
    "\n",
    "    tmp = pd.DataFrame(AccuracyData.sort_values('Sum',ascending=False)).copy()\n",
    "    \n",
    "    tmp = tmp.head(1)\n",
    "    finalFeatures = tmp['Features'][tmp.index[0]]\n",
    "    clusterWiseBestAccuracy = clusterWiseBestAccuracy.append({'NoOfFeatures':i,'Features':finalFeatures,\n",
    "                'Accuracy':tmp['Sum'][tmp.index[0]], 'TimeInSec':tmp['TimeInSec'][tmp.index[0]]}, ignore_index=True)\n",
    "\n",
    "    print(finalFeatures)\n",
    "    \n",
    "print(\"Best performing Clusters from each feature group:\")\n",
    "clusterWiseBestAccuracy"
   ]
  },
  {
   "cell_type": "code",
   "execution_count": null,
   "metadata": {
    "scrolled": true
   },
   "outputs": [],
   "source": [
    "print(\"Clusters sorted based on Accuracy:\")\n",
    "\n",
    "for i in range(len(clusterWiseBestAccuracy)-1):\n",
    "    if(clusterWiseBestAccuracy['Accuracy'].values[i] >= clusterWiseBestAccuracy['Accuracy'].values[i+1]):\n",
    "        clusterWiseBestAccuracy['Accuracy'].values[i+1] = clusterWiseBestAccuracy['Accuracy'].values[i]\n",
    "        clusterWiseBestAccuracy['Features'].values[i+1] = clusterWiseBestAccuracy['Features'].values[i]\n",
    "clusterWiseBestAccuracy "
   ]
  },
  {
   "cell_type": "code",
   "execution_count": null,
   "metadata": {},
   "outputs": [],
   "source": [
    "print(\"Clusters with unique Accuracy:\")\n",
    "\n",
    "clusterWiseBestAccuracy = clusterWiseBestAccuracy.drop_duplicates(subset='Accuracy')  \n",
    "clusterWiseBestAccuracy"
   ]
  },
  {
   "cell_type": "code",
   "execution_count": null,
   "metadata": {
    "scrolled": true
   },
   "outputs": [],
   "source": [
    "print(\"Final Selected Clusters of Features :\\n\")\n",
    "\n",
    "fastestFeatures = clusterWiseBestAccuracy['Features'].values[0]\n",
    "clusterWiseBestAccuracy = clusterWiseBestAccuracy.sort_values('Accuracy',ascending=False)   \n",
    "mostAccurateFeatures =  clusterWiseBestAccuracy['Features'].values[0]\n",
    "\n",
    "print(fastestFeatures)\n",
    "print(mostAccurateFeatures)\n",
    "\n",
    "noOfModels=2\n",
    "if(fastestFeatures==mostAccurateFeatures):\n",
    "    noOfModels=1\n",
    "\n",
    "FutIdentEND= time.time()"
   ]
  },
  {
   "cell_type": "code",
   "execution_count": null,
   "metadata": {},
   "outputs": [],
   "source": []
  }
 ],
 "metadata": {
  "kernelspec": {
   "display_name": "Python 3 (ipykernel)",
   "language": "python",
   "name": "python3"
  },
  "language_info": {
   "codemirror_mode": {
    "name": "ipython",
    "version": 3
   },
   "file_extension": ".py",
   "mimetype": "text/x-python",
   "name": "python",
   "nbconvert_exporter": "python",
   "pygments_lexer": "ipython3",
   "version": "3.9.13"
  }
 },
 "nbformat": 4,
 "nbformat_minor": 4
}
