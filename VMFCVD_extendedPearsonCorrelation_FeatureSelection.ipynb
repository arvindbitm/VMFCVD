{
 "cells": [
  {
   "cell_type": "code",
   "execution_count": 31,
   "metadata": {
    "scrolled": true
   },
   "outputs": [],
   "source": [
    "def extendedPearsonCorrelation(myDF, threshold):\n",
    "    COLS = myDF.columns\n",
    "    myPC =  pd.DataFrame(myDF.head(len(COLS))).copy()\n",
    "    X_XBar = [None] * len(COLS)\n",
    "    for i in range(len(COLS)):\n",
    "        X = myDF[COLS[i]]\n",
    "        xBar = statistics.mean(X)\n",
    "        X_XBar[i] = ((X - xBar)*100).astype(int)\n",
    "        \n",
    "    for i in range(len(COLS)):\n",
    "        for j in range(len(COLS)):\n",
    "            myPC[COLS[i]][j] = (sum(X_XBar[i] * X_XBar[j])) / math.sqrt((sum(X_XBar[i] * X_XBar[i])) * (sum(X_XBar[j] * X_XBar[j])))\n",
    "\n",
    "    col_corr = set()\n",
    "    for i in range(len(myPC.columns)):\n",
    "        for j in range(i):\n",
    "            if abs(myPC.iloc[i, j]) > threshold:\n",
    "                colname = myPC.columns[i] \n",
    "                col_corr.add(colname)\n",
    "    \n",
    "    myPC = myPC.set_index(myPC.columns)\n",
    "    myPC.drop(col_corr, axis=0, inplace=True)\n",
    "    myPC.drop(col_corr, axis=1, inplace=True)\n",
    "    return myPC"
   ]
  },
  {
   "cell_type": "code",
   "execution_count": null,
   "metadata": {},
   "outputs": [],
   "source": []
  }
 ],
 "metadata": {
  "kernelspec": {
   "display_name": "Python 3 (ipykernel)",
   "language": "python",
   "name": "python3"
  },
  "language_info": {
   "codemirror_mode": {
    "name": "ipython",
    "version": 3
   },
   "file_extension": ".py",
   "mimetype": "text/x-python",
   "name": "python",
   "nbconvert_exporter": "python",
   "pygments_lexer": "ipython3",
   "version": "3.9.13"
  }
 },
 "nbformat": 4,
 "nbformat_minor": 4
}
